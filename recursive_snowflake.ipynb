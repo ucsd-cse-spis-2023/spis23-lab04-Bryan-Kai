{
  "nbformat": 4,
  "nbformat_minor": 0,
  "metadata": {
    "colab": {
      "provenance": [],
      "authorship_tag": "ABX9TyN46CpnW6b/eQQIKu/gsEF7",
      "include_colab_link": true
    },
    "kernelspec": {
      "name": "python3",
      "display_name": "Python 3"
    },
    "language_info": {
      "name": "python"
    }
  },
  "cells": [
    {
      "cell_type": "markdown",
      "metadata": {
        "id": "view-in-github",
        "colab_type": "text"
      },
      "source": [
        "<a href=\"https://colab.research.google.com/github/ucsd-cse-spis-2023/spis23-lab04-Bryan-Kai/blob/main/recursive_snowflake.ipynb\" target=\"_parent\"><img src=\"https://colab.research.google.com/assets/colab-badge.svg\" alt=\"Open In Colab\"/></a>"
      ]
    },
    {
      "cell_type": "code",
      "execution_count": 1,
      "metadata": {
        "id": "aOdCPSYUFrSz",
        "colab": {
          "base_uri": "https://localhost:8080/"
        },
        "outputId": "a65e9e3c-eab3-4180-d501-fb3ca5a93af1"
      },
      "outputs": [
        {
          "output_type": "stream",
          "name": "stdout",
          "text": [
            "Collecting ColabTurtlePlus\n",
            "  Downloading ColabTurtlePlus-2.0.1-py3-none-any.whl (31 kB)\n",
            "Installing collected packages: ColabTurtlePlus\n",
            "Successfully installed ColabTurtlePlus-2.0.1\n"
          ]
        }
      ],
      "source": [
        "!pip install ColabTurtlePlus"
      ]
    },
    {
      "cell_type": "code",
      "source": [
        "from ColabTurtlePlus.Turtle import *"
      ],
      "metadata": {
        "colab": {
          "base_uri": "https://localhost:8080/"
        },
        "id": "NC2a6H1xoVJF",
        "outputId": "e2db7dba-a103-41e9-d8ef-13b1b27f2175"
      },
      "execution_count": 2,
      "outputs": [
        {
          "output_type": "stream",
          "name": "stdout",
          "text": [
            "Put clearscreen() as the first line in a cell (after the import command) to re-run turtle commands in the cell\n"
          ]
        }
      ]
    },
    {
      "cell_type": "code",
      "source": [
        "clearscreen()\n",
        "\n",
        "t = Turtle()\n",
        "\n",
        "t.speed(1)\n",
        "\n",
        "\n",
        "def snowflake(side_length, levels):\n",
        "  \"\"\"if levels == 0:\n",
        "    return\n",
        "  else:\"\"\"\n",
        "  #t.forward(side_length * 0.33333)\n",
        "  #snowflake_side(side_length)\n",
        "  #t.forward(side_length * 0.33333)\n",
        "  #t.left(120)\n",
        "  #t.forward(side_length * 0.33333)\n",
        "  #snowflake_side(side_length * 0.33333)\n",
        "  #t.forward(side_length * 0.33333)\n",
        "  #t.left(120)\n",
        "  #t.forward(side_length * 0.33333)\n",
        "  #snowflake_side(side_length * 0.33333)\n",
        "  #t.forward(side_length * 0.33333)\n",
        "\n",
        "\n",
        "def snowflake_side(side_length, levels):\n",
        "  t.forward(side_length * 0.33333)\n",
        "  t.left(60)\n",
        "  t.forward(side_length * 0.33333)\n",
        "  t.right(120)\n",
        "  t.forward(side_length * 0.33333)\n",
        "  t.left(60)\n",
        "  t.forward(side_length * 0.33333)\n",
        "\n",
        "\n",
        "\n",
        "\n",
        "snowflake_side(100)\n",
        "\n",
        "\n"
      ],
      "metadata": {
        "colab": {
          "base_uri": "https://localhost:8080/",
          "height": 621
        },
        "id": "o_BqMjtAyk5e",
        "outputId": "dfeaab78-b575-4381-c313-2a368a70bd28"
      },
      "execution_count": 25,
      "outputs": [
        {
          "output_type": "display_data",
          "data": {
            "text/plain": [
              "<IPython.core.display.HTML object>"
            ],
            "text/html": [
              "\n",
              "      <svg width=\"800\" height=\"600\">  \n",
              "        <rect width=\"100%\" height=\"100%\" style=\"fill:white;stroke:;stroke-width:1\"/>\n",
              "        \n",
              "        \n",
              "        <line x1=\"400.0\" y1=\"300.0\" x2=\"433.333\" y2=\"300.0\" stroke-linecap=\"round\" style=\"stroke:black;stroke-width:1\" /><line x1=\"433.333\" y1=\"300.0\" x2=\"450.0\" y2=\"271.133\" stroke-linecap=\"round\" style=\"stroke:black;stroke-width:1\" /><line x1=\"450.0\" y1=\"271.133\" x2=\"466.666\" y2=\"300.0\" stroke-linecap=\"round\" style=\"stroke:black;stroke-width:1\" /><line x1=\"466.666\" y1=\"300.0\" x2=\"476.666\" y2=\"300.0\" stroke-linecap=\"round\" style=\"stroke:black;stroke-width:1\" /><line x1=\"476.666\" y1=\"300.0\" x2=\"486.666\" y2=\"300.0\" stroke-linecap=\"round\" style=\"stroke:black;stroke-width:1\" /><line x1=\"486.666\" y1=\"300.0\" x2=\"496.666\" y2=\"300.0\" stroke-linecap=\"round\" style=\"stroke:black;stroke-width:1\" /><line x1=\"496.666\" y1=\"300.0\" x2=\"499.999\" y2=\"300.0\" stroke-linecap=\"round\" style=\"stroke:black;stroke-width:1\" />\n",
              "        \n",
              "        \n",
              "        <g id=\"classic\" visibility=\"visible\" transform=\"rotate(-90,499.999,300.0) translate(499.999, 300.0)\">\n",
              "<polygon points=\"-5,-4.5 0,-2.5 5,-4.5 0,4.5\" transform=\"skewX(0) scale(1,1)\" style=\"stroke:black;fill:black;stroke-width:1\" />\n",
              "</g>\n",
              "      </svg>\n",
              "    "
            ]
          },
          "metadata": {}
        }
      ]
    },
    {
      "cell_type": "code",
      "source": [
        "clearscreen()\n",
        "\n",
        "t = Turtle()\n",
        "\n",
        "t.speed(1)\n",
        "\n",
        "\n",
        "def snowflake(side_length):\n",
        "  \"\"\"if levels == 0:\n",
        "    return\n",
        "  else:\"\"\"\n",
        "  #t.forward(side_length * 0.33333)\n",
        "  #snowflake_side(side_length)\n",
        "  #t.forward(side_length * 0.33333)\n",
        "  #t.left(120)\n",
        "  #t.forward(side_length * 0.33333)\n",
        "  #snowflake_side(side_length * 0.33333)\n",
        "  #t.forward(side_length * 0.33333)\n",
        "  #t.left(120)\n",
        "  #t.forward(side_length * 0.33333)\n",
        "  #snowflake_side(side_length * 0.33333)\n",
        "  #t.forward(side_length * 0.33333)\n",
        "\n",
        "\n",
        "def snowflake_side(side_length):\n",
        "  t.forward(side_length * 0.33333)\n",
        "  t.left(60)\n",
        "  t.forward(side_length * 0.33333)\n",
        "  t.right(120)\n",
        "  t.forward(side_length * 0.33333)\n",
        "  t.left(60)\n",
        "  t.forward(side_length * 0.33333)\n",
        "\n",
        "\n",
        "\n",
        "\n",
        "snowflake_side(100)\n"
      ],
      "metadata": {
        "colab": {
          "base_uri": "https://localhost:8080/",
          "height": 621
        },
        "id": "BJWYekAZhPvM",
        "outputId": "c1cb7bc1-973d-4f8e-9b5a-a96c77891b54"
      },
      "execution_count": 27,
      "outputs": [
        {
          "output_type": "display_data",
          "data": {
            "text/plain": [
              "<IPython.core.display.HTML object>"
            ],
            "text/html": [
              "\n",
              "      <svg width=\"800\" height=\"600\">  \n",
              "        <rect width=\"100%\" height=\"100%\" style=\"fill:white;stroke:;stroke-width:1\"/>\n",
              "        \n",
              "        \n",
              "        <line x1=\"400.0\" y1=\"300.0\" x2=\"433.333\" y2=\"300.0\" stroke-linecap=\"round\" style=\"stroke:black;stroke-width:1\" /><line x1=\"433.333\" y1=\"300.0\" x2=\"450.0\" y2=\"271.133\" stroke-linecap=\"round\" style=\"stroke:black;stroke-width:1\" /><line x1=\"450.0\" y1=\"271.133\" x2=\"466.666\" y2=\"300.0\" stroke-linecap=\"round\" style=\"stroke:black;stroke-width:1\" /><line x1=\"466.666\" y1=\"300.0\" x2=\"476.666\" y2=\"300.0\" stroke-linecap=\"round\" style=\"stroke:black;stroke-width:1\" /><line x1=\"476.666\" y1=\"300.0\" x2=\"486.666\" y2=\"300.0\" stroke-linecap=\"round\" style=\"stroke:black;stroke-width:1\" /><line x1=\"486.666\" y1=\"300.0\" x2=\"496.666\" y2=\"300.0\" stroke-linecap=\"round\" style=\"stroke:black;stroke-width:1\" /><line x1=\"496.666\" y1=\"300.0\" x2=\"499.999\" y2=\"300.0\" stroke-linecap=\"round\" style=\"stroke:black;stroke-width:1\" />\n",
              "        \n",
              "        \n",
              "        <g id=\"classic\" visibility=\"visible\" transform=\"rotate(-90,499.999,300.0) translate(499.999, 300.0)\">\n",
              "<polygon points=\"-5,-4.5 0,-2.5 5,-4.5 0,4.5\" transform=\"skewX(0) scale(1,1)\" style=\"stroke:black;fill:black;stroke-width:1\" />\n",
              "</g>\n",
              "      </svg>\n",
              "    "
            ]
          },
          "metadata": {}
        }
      ]
    },
    {
      "cell_type": "code",
      "source": [
        "clearscreen()\n",
        "\n",
        "t = Turtle()\n",
        "\n",
        "def snowflake(side_length, levels):\n",
        "  if levels == 0:\n",
        "    return\n",
        "  else:\n",
        "    snowflake_side(side_length, levels - 1)\n",
        "    t.right(120)\n",
        "    snowflake_side(side_length, levels - 1)\n",
        "    t.right(120)\n",
        "    snowflake_side(side_length, levels - 1)\n",
        "\n",
        "def snowflake_side(side_length, levels):\n",
        "  t.forward(side_length * 0.33333)\n",
        "  t.left(60)\n",
        "  t.forward(side_length * 0.33333)\n",
        "  t.right(120)\n",
        "  t.forward(side_length * 0.33333)\n",
        "  t.left(60)\n",
        "  t.forward(side_length * 0.33333)\n",
        "\n",
        "snowflake(100, 4)\n",
        "\n"
      ],
      "metadata": {
        "colab": {
          "base_uri": "https://localhost:8080/",
          "height": 621
        },
        "id": "VH9_OG-mUHWT",
        "outputId": "5829c6e1-2a84-4e66-9f56-d3a2c2f58a59"
      },
      "execution_count": 33,
      "outputs": [
        {
          "output_type": "display_data",
          "data": {
            "text/plain": [
              "<IPython.core.display.HTML object>"
            ],
            "text/html": [
              "\n",
              "      <svg width=\"800\" height=\"600\">  \n",
              "        <rect width=\"100%\" height=\"100%\" style=\"fill:white;stroke:;stroke-width:1\"/>\n",
              "        \n",
              "        \n",
              "        <line x1=\"400.0\" y1=\"300.0\" x2=\"433.333\" y2=\"300.0\" stroke-linecap=\"round\" style=\"stroke:black;stroke-width:1\" /><line x1=\"433.333\" y1=\"300.0\" x2=\"450.0\" y2=\"271.133\" stroke-linecap=\"round\" style=\"stroke:black;stroke-width:1\" /><line x1=\"450.0\" y1=\"271.133\" x2=\"466.666\" y2=\"300.0\" stroke-linecap=\"round\" style=\"stroke:black;stroke-width:1\" /><line x1=\"466.666\" y1=\"300.0\" x2=\"499.999\" y2=\"300.0\" stroke-linecap=\"round\" style=\"stroke:black;stroke-width:1\" /><line x1=\"499.999\" y1=\"300.0\" x2=\"483.333\" y2=\"328.867\" stroke-linecap=\"round\" style=\"stroke:black;stroke-width:1\" /><line x1=\"483.333\" y1=\"328.867\" x2=\"500.0\" y2=\"357.734\" stroke-linecap=\"round\" style=\"stroke:black;stroke-width:1\" /><line x1=\"500.0\" y1=\"357.734\" x2=\"466.667\" y2=\"357.734\" stroke-linecap=\"round\" style=\"stroke:black;stroke-width:1\" /><line x1=\"466.667\" y1=\"357.734\" x2=\"450.0\" y2=\"386.601\" stroke-linecap=\"round\" style=\"stroke:black;stroke-width:1\" /><line x1=\"450.0\" y1=\"386.601\" x2=\"433.333\" y2=\"357.734\" stroke-linecap=\"round\" style=\"stroke:black;stroke-width:1\" /><line x1=\"433.333\" y1=\"357.734\" x2=\"400.0\" y2=\"357.734\" stroke-linecap=\"round\" style=\"stroke:black;stroke-width:1\" /><line x1=\"400.0\" y1=\"357.734\" x2=\"416.666\" y2=\"328.867\" stroke-linecap=\"round\" style=\"stroke:black;stroke-width:1\" /><line x1=\"416.666\" y1=\"328.867\" x2=\"411.666\" y2=\"320.20674596215565\" stroke-linecap=\"round\" style=\"stroke:black;stroke-width:1\" /><line x1=\"411.666\" y1=\"320.20674596215565\" x2=\"406.666\" y2=\"311.5464919243113\" stroke-linecap=\"round\" style=\"stroke:black;stroke-width:1\" /><line x1=\"406.666\" y1=\"311.5464919243113\" x2=\"401.666\" y2=\"302.8862378864669\" stroke-linecap=\"round\" style=\"stroke:black;stroke-width:1\" /><line x1=\"401.666\" y1=\"302.8862378864669\" x2=\"399.9995\" y2=\"299.99977521565336\" stroke-linecap=\"round\" style=\"stroke:black;stroke-width:1\" />\n",
              "        \n",
              "        \n",
              "        <g id=\"classic\" visibility=\"visible\" transform=\"rotate(150,399.9995,299.99977521565336) translate(399.9995, 299.99977521565336)\">\n",
              "<polygon points=\"-5,-4.5 0,-2.5 5,-4.5 0,4.5\" transform=\"skewX(0) scale(1,1)\" style=\"stroke:black;fill:black;stroke-width:1\" />\n",
              "</g>\n",
              "      </svg>\n",
              "    "
            ]
          },
          "metadata": {}
        }
      ]
    }
  ]
}