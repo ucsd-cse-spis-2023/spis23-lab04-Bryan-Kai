{
  "nbformat": 4,
  "nbformat_minor": 0,
  "metadata": {
    "colab": {
      "provenance": [],
      "authorship_tag": "ABX9TyM2osctn35H4Vk6rvUJ/XY6",
      "include_colab_link": true
    },
    "kernelspec": {
      "name": "python3",
      "display_name": "Python 3"
    },
    "language_info": {
      "name": "python"
    }
  },
  "cells": [
    {
      "cell_type": "markdown",
      "metadata": {
        "id": "view-in-github",
        "colab_type": "text"
      },
      "source": [
        "<a href=\"https://colab.research.google.com/github/ucsd-cse-spis-2023/spis23-lab04-Bryan-Kai/blob/main/recursive_snowflake.ipynb\" target=\"_parent\"><img src=\"https://colab.research.google.com/assets/colab-badge.svg\" alt=\"Open In Colab\"/></a>"
      ]
    },
    {
      "cell_type": "code",
      "execution_count": null,
      "metadata": {
        "id": "aOdCPSYUFrSz",
        "colab": {
          "base_uri": "https://localhost:8080/"
        },
        "outputId": "af26e4f9-6165-46a9-c311-0ef0e37bd555"
      },
      "outputs": [
        {
          "output_type": "stream",
          "name": "stdout",
          "text": [
            "Collecting ColabTurtlePlus\n",
            "  Downloading ColabTurtlePlus-2.0.1-py3-none-any.whl (31 kB)\n",
            "Installing collected packages: ColabTurtlePlus\n",
            "Successfully installed ColabTurtlePlus-2.0.1\n"
          ]
        }
      ],
      "source": [
        "!pip install ColabTurtlePlus"
      ]
    },
    {
      "cell_type": "code",
      "source": [
        "from ColabTurtlePlus.Turtle import *"
      ],
      "metadata": {
        "colab": {
          "base_uri": "https://localhost:8080/"
        },
        "id": "NC2a6H1xoVJF",
        "outputId": "8c42a096-ed5a-43d8-9277-1eb872eb2964"
      },
      "execution_count": null,
      "outputs": [
        {
          "output_type": "stream",
          "name": "stdout",
          "text": [
            "Put clearscreen() as the first line in a cell (after the import command) to re-run turtle commands in the cell\n"
          ]
        }
      ]
    },
    {
      "cell_type": "code",
      "source": [
        "clearscreen()\n",
        "\n",
        "t = Turtle()\n",
        "\n",
        "\n",
        "def snowflake(side_length):\n",
        "  if levels == 0:\n",
        "    return\n",
        "  else:\n",
        "    t.forward(side_length)\n",
        "    t.left(120)\n",
        "    t.forward(side_length)\n",
        "    t.left(120)\n",
        "    t.forward(side_length)\n",
        "\n",
        "\n",
        "def snowflake_side(side_length)\n",
        "  t.right(30)\n",
        "  t.forward(side_length * 0.33333)\n",
        "  t.left(120)\n",
        "  t.forward(side_length * 0.33333)\n",
        "  t.right(30)\n",
        "\n",
        "\n",
        "\n",
        "\n",
        "snowflake(100, 1)\n"
      ],
      "metadata": {
        "colab": {
          "base_uri": "https://localhost:8080/",
          "height": 641
        },
        "id": "o_BqMjtAyk5e",
        "outputId": "d07f7797-7945-4ee7-a392-20f0e9ddb4f7"
      },
      "execution_count": null,
      "outputs": [
        {
          "output_type": "display_data",
          "data": {
            "text/plain": [
              "<IPython.core.display.HTML object>"
            ],
            "text/html": [
              "\n",
              "      <svg width=\"800\" height=\"600\">  \n",
              "        <rect width=\"100%\" height=\"100%\" style=\"fill:white;stroke:;stroke-width:1\"/>\n",
              "        \n",
              "        \n",
              "        <line x1=\"400.0\" y1=\"300.0\" x2=\"500.0\" y2=\"300.0\" stroke-linecap=\"round\" style=\"stroke:black;stroke-width:1\" /><line x1=\"500.0\" y1=\"300.0\" x2=\"450.0\" y2=\"213.397\" stroke-linecap=\"round\" style=\"stroke:black;stroke-width:1\" /><line x1=\"450.0\" y1=\"213.397\" x2=\"445.0\" y2=\"222.0572540378444\" stroke-linecap=\"round\" style=\"stroke:black;stroke-width:1\" /><line x1=\"445.0\" y1=\"222.0572540378444\" x2=\"440.0\" y2=\"230.71750807568878\" stroke-linecap=\"round\" style=\"stroke:black;stroke-width:1\" /><line x1=\"440.0\" y1=\"230.71750807568878\" x2=\"435.0\" y2=\"239.37776211353318\" stroke-linecap=\"round\" style=\"stroke:black;stroke-width:1\" /><line x1=\"435.0\" y1=\"239.37776211353318\" x2=\"430.0\" y2=\"248.03801615137758\" stroke-linecap=\"round\" style=\"stroke:black;stroke-width:1\" /><line x1=\"430.0\" y1=\"248.03801615137758\" x2=\"425.0\" y2=\"256.69827018922194\" stroke-linecap=\"round\" style=\"stroke:black;stroke-width:1\" /><line x1=\"425.0\" y1=\"256.69827018922194\" x2=\"420.0\" y2=\"265.3585242270663\" stroke-linecap=\"round\" style=\"stroke:black;stroke-width:1\" /><line x1=\"420.0\" y1=\"265.3585242270663\" x2=\"415.0\" y2=\"274.0187782649107\" stroke-linecap=\"round\" style=\"stroke:black;stroke-width:1\" /><line x1=\"415.0\" y1=\"274.0187782649107\" x2=\"410.0\" y2=\"282.67903230275505\" stroke-linecap=\"round\" style=\"stroke:black;stroke-width:1\" /><line x1=\"410.0\" y1=\"282.67903230275505\" x2=\"405.0\" y2=\"291.3392863405994\" stroke-linecap=\"round\" style=\"stroke:black;stroke-width:1\" /><line x1=\"405.0\" y1=\"291.3392863405994\" x2=\"400.0\" y2=\"299.9995403784438\" stroke-linecap=\"round\" style=\"stroke:black;stroke-width:1\" />\n",
              "        \n",
              "        \n",
              "        <g id=\"classic\" visibility=\"visible\" transform=\"rotate(30,400.0,299.9995403784438) translate(400.0, 299.9995403784438)\">\n",
              "<polygon points=\"-5,-4.5 0,-2.5 5,-4.5 0,4.5\" transform=\"skewX(0) scale(1,1)\" style=\"stroke:black;fill:black;stroke-width:1\" />\n",
              "</g>\n",
              "      </svg>\n",
              "    "
            ]
          },
          "metadata": {}
        }
      ]
    }
  ]
}