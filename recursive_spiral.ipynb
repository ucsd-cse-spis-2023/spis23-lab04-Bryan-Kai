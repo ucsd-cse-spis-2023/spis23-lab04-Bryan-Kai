{
  "nbformat": 4,
  "nbformat_minor": 0,
  "metadata": {
    "colab": {
      "provenance": [],
      "authorship_tag": "ABX9TyNzThtMZQJU5s9S4u6ZbhvM",
      "include_colab_link": true
    },
    "kernelspec": {
      "name": "python3",
      "display_name": "Python 3"
    },
    "language_info": {
      "name": "python"
    }
  },
  "cells": [
    {
      "cell_type": "markdown",
      "metadata": {
        "id": "view-in-github",
        "colab_type": "text"
      },
      "source": [
        "<a href=\"https://colab.research.google.com/github/ucsd-cse-spis-2023/spis23-lab04-Bryan-Kai/blob/main/recursive_spiral.ipynb\" target=\"_parent\"><img src=\"https://colab.research.google.com/assets/colab-badge.svg\" alt=\"Open In Colab\"/></a>"
      ]
    },
    {
      "cell_type": "code",
      "execution_count": 2,
      "metadata": {
        "colab": {
          "base_uri": "https://localhost:8080/"
        },
        "id": "JZdmEwHGFgkS",
        "outputId": "370132f0-f63f-4bab-c831-4fc4513de631"
      },
      "outputs": [
        {
          "output_type": "stream",
          "name": "stdout",
          "text": [
            "Collecting ColabTurtlePlus\n",
            "  Downloading ColabTurtlePlus-2.0.1-py3-none-any.whl (31 kB)\n",
            "Installing collected packages: ColabTurtlePlus\n",
            "Successfully installed ColabTurtlePlus-2.0.1\n"
          ]
        }
      ],
      "source": [
        "!pip install ColabTurtlePlus"
      ]
    },
    {
      "cell_type": "code",
      "source": [
        "from ColabTurtlePlus.Turtle import *"
      ],
      "metadata": {
        "colab": {
          "base_uri": "https://localhost:8080/"
        },
        "id": "SVqnXGAQF_sV",
        "outputId": "ca47375f-9fb1-4b53-d62f-2d87b85717a0"
      },
      "execution_count": 3,
      "outputs": [
        {
          "output_type": "stream",
          "name": "stdout",
          "text": [
            "Put clearscreen() as the first line in a cell (after the import command) to re-run turtle commands in the cell\n"
          ]
        }
      ]
    },
    {
      "cell_type": "code",
      "source": [
        "clearscreen()\n",
        "\n",
        "t = Turtle()\n",
        "\n",
        "def spiral(initial_length, angle, multiplier):\n",
        "\n",
        "  if initial_length < 0.8 or initial_length > 200:\n",
        "    return 0\n",
        "  t.forward(initial_length)\n",
        "  t.right(angle)\n",
        "\n",
        "  spiral(initial_length * multiplier, angle, multiplier)\n",
        "\n",
        "spiral(10, 35, 1.1)\n",
        "\n",
        "\n",
        "\n"
      ],
      "metadata": {
        "colab": {
          "base_uri": "https://localhost:8080/",
          "height": 621
        },
        "id": "otvC6wmDGEer",
        "outputId": "e87130bf-d3ac-4e27-9818-799cfac9727d"
      },
      "execution_count": 37,
      "outputs": [
        {
          "output_type": "display_data",
          "data": {
            "text/plain": [
              "<IPython.core.display.HTML object>"
            ],
            "text/html": [
              "\n",
              "      <svg width=\"800\" height=\"600\">  \n",
              "        <rect width=\"100%\" height=\"100%\" style=\"fill:white;stroke:;stroke-width:1\"/>\n",
              "        \n",
              "        \n",
              "        <line x1=\"400.0\" y1=\"300.0\" x2=\"410.0\" y2=\"300.0\" stroke-linecap=\"round\" style=\"stroke:black;stroke-width:1\" /><line x1=\"410.0\" y1=\"300.0\" x2=\"419.011\" y2=\"306.309\" stroke-linecap=\"round\" style=\"stroke:black;stroke-width:1\" /><line x1=\"419.011\" y1=\"306.309\" x2=\"423.149\" y2=\"317.679\" stroke-linecap=\"round\" style=\"stroke:black;stroke-width:1\" /><line x1=\"423.149\" y1=\"317.679\" x2=\"419.704\" y2=\"330.535\" stroke-linecap=\"round\" style=\"stroke:black;stroke-width:1\" /><line x1=\"419.704\" y1=\"330.535\" x2=\"408.488\" y2=\"339.946\" stroke-linecap=\"round\" style=\"stroke:black;stroke-width:1\" /><line x1=\"408.488\" y1=\"339.946\" x2=\"392.444\" y2=\"341.35\" stroke-linecap=\"round\" style=\"stroke:black;stroke-width:1\" /><line x1=\"392.444\" y1=\"341.35\" x2=\"377.102\" y2=\"332.492\" stroke-linecap=\"round\" style=\"stroke:black;stroke-width:1\" /><line x1=\"377.102\" y1=\"332.492\" x2=\"368.866\" y2=\"314.831\" stroke-linecap=\"round\" style=\"stroke:black;stroke-width:1\" /><line x1=\"368.866\" y1=\"314.831\" x2=\"372.588\" y2=\"293.721\" stroke-linecap=\"round\" style=\"stroke:black;stroke-width:1\" /><line x1=\"372.588\" y1=\"293.721\" x2=\"389.261\" y2=\"277.048\" stroke-linecap=\"round\" style=\"stroke:black;stroke-width:1\" /><line x1=\"389.261\" y1=\"277.048\" x2=\"414.804\" y2=\"272.544\" stroke-linecap=\"round\" style=\"stroke:black;stroke-width:1\" /><line x1=\"414.804\" y1=\"272.544\" x2=\"440.662\" y2=\"284.602\" stroke-linecap=\"round\" style=\"stroke:black;stroke-width:1\" /><line x1=\"440.662\" y1=\"284.602\" x2=\"456.354\" y2=\"311.782\" stroke-linecap=\"round\" style=\"stroke:black;stroke-width:1\" /><line x1=\"456.354\" y1=\"311.782\" x2=\"453.345\" y2=\"346.173\" stroke-linecap=\"round\" style=\"stroke:black;stroke-width:1\" /><line x1=\"453.345\" y1=\"346.173\" x2=\"428.935\" y2=\"375.264\" stroke-linecap=\"round\" style=\"stroke:black;stroke-width:1\" /><line x1=\"428.935\" y1=\"375.264\" x2=\"388.586\" y2=\"386.076\" stroke-linecap=\"round\" style=\"stroke:black;stroke-width:1\" /><line x1=\"388.586\" y1=\"386.076\" x2=\"345.407\" y2=\"370.36\" stroke-linecap=\"round\" style=\"stroke:black;stroke-width:1\" /><line x1=\"345.407\" y1=\"370.36\" x2=\"316.416\" y2=\"328.956\" stroke-linecap=\"round\" style=\"stroke:black;stroke-width:1\" /><line x1=\"316.416\" y1=\"328.956\" x2=\"316.416\" y2=\"273.357\" stroke-linecap=\"round\" style=\"stroke:black;stroke-width:1\" /><line x1=\"316.416\" y1=\"273.357\" x2=\"351.495\" y2=\"223.258\" stroke-linecap=\"round\" style=\"stroke:black;stroke-width:1\" /><line x1=\"351.495\" y1=\"223.258\" x2=\"414.713\" y2=\"200.249\" stroke-linecap=\"round\" style=\"stroke:black;stroke-width:1\" /><line x1=\"414.713\" y1=\"200.249\" x2=\"486.194\" y2=\"219.402\" stroke-linecap=\"round\" style=\"stroke:black;stroke-width:1\" /><line x1=\"486.194\" y1=\"219.402\" x2=\"538.519\" y2=\"281.76\" stroke-linecap=\"round\" style=\"stroke:black;stroke-width:1\" /><line x1=\"538.519\" y1=\"281.76\" x2=\"546.323\" y2=\"370.962\" stroke-linecap=\"round\" style=\"stroke:black;stroke-width:1\" /><line x1=\"546.323\" y1=\"370.962\" x2=\"497.074\" y2=\"456.263\" stroke-linecap=\"round\" style=\"stroke:black;stroke-width:1\" /><line x1=\"497.074\" y1=\"456.263\" x2=\"398.878\" y2=\"502.052\" stroke-linecap=\"round\" style=\"stroke:black;stroke-width:1\" /><line x1=\"398.878\" y1=\"502.052\" x2=\"281.507\" y2=\"481.356\" stroke-linecap=\"round\" style=\"stroke:black;stroke-width:1\" /><line x1=\"281.507\" y1=\"481.356\" x2=\"188.805\" y2=\"388.654\" stroke-linecap=\"round\" style=\"stroke:black;stroke-width:1\" /><line x1=\"188.805\" y1=\"388.654\" x2=\"163.763\" y2=\"246.635\" stroke-linecap=\"round\" style=\"stroke:black;stroke-width:1\" /><line x1=\"163.763\" y1=\"246.635\" x2=\"230.803\" y2=\"102.867\" stroke-linecap=\"round\" style=\"stroke:black;stroke-width:1\" /><line x1=\"230.803\" y1=\"102.867\" x2=\"381.919\" y2=\"15.62\" stroke-linecap=\"round\" style=\"stroke:black;stroke-width:1\" /><line x1=\"381.919\" y1=\"15.62\" x2=\"573.132\" y2=\"32.349\" stroke-linecap=\"round\" style=\"stroke:black;stroke-width:1\" />\n",
              "        \n",
              "        \n",
              "        <g id=\"classic\" visibility=\"visible\" transform=\"rotate(-85,573.132,32.349) translate(573.132, 32.349)\">\n",
              "<polygon points=\"-5,-4.5 0,-2.5 5,-4.5 0,4.5\" transform=\"skewX(0) scale(1,1)\" style=\"stroke:black;fill:black;stroke-width:1\" />\n",
              "<animateTransform id = \"one\" attributeName=\"transform\" \n",
              "                      type=\"scale\"\n",
              "                      from=\"1 1\" to=\"1 1\"\n",
              "                      begin=\"0s\" dur=\"0.01s\"\n",
              "                      repeatCount=\"1\"\n",
              "                      additive=\"sum\"\n",
              "                      fill=\"freeze\"\n",
              "                /><animateTransform attributeName=\"transform\"\n",
              "                    type=\"rotate\"\n",
              "                    from=\"0 0 0\" to =\"35 0 0\"\n",
              "                    begin=\"one.end\" dur=\"0.09722222222222222s\"\n",
              "                    repeatCount=\"1\"\n",
              "                    additive=\"sum\"\n",
              "                    fill=\"freeze\"\n",
              "                /></g>\n",
              "      </svg>\n",
              "    "
            ]
          },
          "metadata": {}
        }
      ]
    }
  ]
}