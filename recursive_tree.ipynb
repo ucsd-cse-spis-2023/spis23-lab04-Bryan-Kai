{
  "nbformat": 4,
  "nbformat_minor": 0,
  "metadata": {
    "colab": {
      "provenance": [],
      "authorship_tag": "ABX9TyMn8xbjs+vlwZCTNKBRdWA0",
      "include_colab_link": true
    },
    "kernelspec": {
      "name": "python3",
      "display_name": "Python 3"
    },
    "language_info": {
      "name": "python"
    }
  },
  "cells": [
    {
      "cell_type": "markdown",
      "metadata": {
        "id": "view-in-github",
        "colab_type": "text"
      },
      "source": [
        "<a href=\"https://colab.research.google.com/github/ucsd-cse-spis-2023/spis23-lab04-Bryan-Kai/blob/main/recursive_tree.ipynb\" target=\"_parent\"><img src=\"https://colab.research.google.com/assets/colab-badge.svg\" alt=\"Open In Colab\"/></a>"
      ]
    },
    {
      "cell_type": "code",
      "execution_count": 1,
      "metadata": {
        "id": "x6rj6nFtFm4d",
        "colab": {
          "base_uri": "https://localhost:8080/"
        },
        "outputId": "452d663d-9702-44a6-be76-4244a0a8c4c6"
      },
      "outputs": [
        {
          "output_type": "stream",
          "name": "stdout",
          "text": [
            "Collecting ColabTurtlePlus\n",
            "  Downloading ColabTurtlePlus-2.0.1-py3-none-any.whl (31 kB)\n",
            "Installing collected packages: ColabTurtlePlus\n",
            "Successfully installed ColabTurtlePlus-2.0.1\n"
          ]
        }
      ],
      "source": [
        "!pip install ColabTurtlePlus"
      ]
    },
    {
      "cell_type": "code",
      "source": [
        "from ColabTurtlePlus.Turtle import *"
      ],
      "metadata": {
        "colab": {
          "base_uri": "https://localhost:8080/"
        },
        "id": "gPPbSi5vJkl_",
        "outputId": "5e44a774-beb6-4e0a-9345-a2f250801750"
      },
      "execution_count": 2,
      "outputs": [
        {
          "output_type": "stream",
          "name": "stdout",
          "text": [
            "Put clearscreen() as the first line in a cell (after the import command) to re-run turtle commands in the cell\n"
          ]
        }
      ]
    },
    {
      "cell_type": "code",
      "source": [
        "clearscreen()\n",
        "\n",
        "t = Turtle()\n",
        "\n",
        "t.penup()\n",
        "t.setpos(0, -175)\n",
        "t.left(90)\n",
        "t.speed(5)\n",
        "t.pendown()\n",
        "\n",
        "def tree(trunk_length):\n",
        "\n",
        "  t.forward(trunk_length)\n",
        "  t.right(45)\n",
        "  t.forward(trunk_length / 1.5)\n",
        "  t.backward(trunk_length / 1.5)\n",
        "  t.left(90)\n",
        "  t.forward(trunk_length / 1.5)\n",
        "  t.backward(trunk_length / 1.5)\n",
        "\n",
        "\n",
        "tree(100)\n",
        "\n",
        "\n"
      ],
      "metadata": {
        "colab": {
          "base_uri": "https://localhost:8080/",
          "height": 621
        },
        "id": "ijDrwReaJpmA",
        "outputId": "13458e7e-e92b-41be-a659-59cf1c241333"
      },
      "execution_count": 3,
      "outputs": [
        {
          "output_type": "display_data",
          "data": {
            "text/plain": [
              "<IPython.core.display.HTML object>"
            ],
            "text/html": [
              "\n",
              "      <svg width=\"800\" height=\"600\">  \n",
              "        <rect width=\"100%\" height=\"100%\" style=\"fill:white;stroke:;stroke-width:1\"/>\n",
              "        \n",
              "        \n",
              "        <line x1=\"400.0\" y1=\"475.0\" x2=\"400.0\" y2=\"375.0\" stroke-linecap=\"round\" style=\"stroke:black;stroke-width:1\" /><line x1=\"400.0\" y1=\"375.0\" x2=\"447.14\" y2=\"327.86\" stroke-linecap=\"round\" style=\"stroke:black;stroke-width:1\" /><line x1=\"447.14\" y1=\"327.86\" x2=\"400.0\" y2=\"375.0\" stroke-linecap=\"round\" style=\"stroke:black;stroke-width:1\" /><line x1=\"400.0\" y1=\"375.0\" x2=\"352.86\" y2=\"327.86\" stroke-linecap=\"round\" style=\"stroke:black;stroke-width:1\" /><line x1=\"352.86\" y1=\"327.86\" x2=\"359.9310678118655\" y2=\"334.9310678118655\" stroke-linecap=\"round\" style=\"stroke:black;stroke-width:1\" /><line x1=\"359.9310678118655\" y1=\"334.9310678118655\" x2=\"367.00213562373096\" y2=\"342.00213562373096\" stroke-linecap=\"round\" style=\"stroke:black;stroke-width:1\" /><line x1=\"367.00213562373096\" y1=\"342.00213562373096\" x2=\"374.07320343559644\" y2=\"349.07320343559644\" stroke-linecap=\"round\" style=\"stroke:black;stroke-width:1\" /><line x1=\"374.07320343559644\" y1=\"349.07320343559644\" x2=\"381.1442712474619\" y2=\"356.1442712474619\" stroke-linecap=\"round\" style=\"stroke:black;stroke-width:1\" /><line x1=\"381.1442712474619\" y1=\"356.1442712474619\" x2=\"388.2153390593274\" y2=\"363.2153390593274\" stroke-linecap=\"round\" style=\"stroke:black;stroke-width:1\" /><line x1=\"388.2153390593274\" y1=\"363.2153390593274\" x2=\"395.28640687119287\" y2=\"370.28640687119287\" stroke-linecap=\"round\" style=\"stroke:black;stroke-width:1\" /><line x1=\"395.28640687119287\" y1=\"370.28640687119287\" x2=\"400.0004520791032\" y2=\"375.0004520791032\" stroke-linecap=\"round\" style=\"stroke:black;stroke-width:1\" />\n",
              "        \n",
              "        \n",
              "        <g id=\"classic\" visibility=\"visible\" transform=\"rotate(135,400.0004520791032,375.0004520791032) translate(400.0004520791032, 375.0004520791032)\">\n",
              "<polygon points=\"-5,-4.5 0,-2.5 5,-4.5 0,4.5\" transform=\"skewX(0) scale(1,1)\" style=\"stroke:black;fill:black;stroke-width:1\" />\n",
              "</g>\n",
              "      </svg>\n",
              "    "
            ]
          },
          "metadata": {}
        }
      ]
    },
    {
      "cell_type": "code",
      "source": [
        "clearscreen()\n",
        "\n",
        "t = Turtle()\n",
        "\n",
        "t.penup()\n",
        "t.setpos(0, -175)\n",
        "t.left(90)\n",
        "t.speed(5)\n",
        "t.pendown()\n",
        "\n",
        "def tree(trunk_length, height):\n",
        "\n",
        "  if height < 0:\n",
        "    return 0\n",
        "\n",
        "  else:\n",
        "    t.forward(trunk_length)\n",
        "    t.right(45)\n",
        "    tree(trunk_length * 0.75, height - 1)\n",
        "\n",
        "tree(100, 4)"
      ],
      "metadata": {
        "id": "d-z8nHIKSVGy",
        "colab": {
          "base_uri": "https://localhost:8080/",
          "height": 621
        },
        "outputId": "65cde7ab-2dc8-426e-f847-5592c4e45610"
      },
      "execution_count": 15,
      "outputs": [
        {
          "output_type": "display_data",
          "data": {
            "text/plain": [
              "<IPython.core.display.HTML object>"
            ],
            "text/html": [
              "\n",
              "      <svg width=\"800\" height=\"600\">  \n",
              "        <rect width=\"100%\" height=\"100%\" style=\"fill:white;stroke:;stroke-width:1\"/>\n",
              "        \n",
              "        \n",
              "        <line x1=\"400.0\" y1=\"475.0\" x2=\"400.0\" y2=\"375.0\" stroke-linecap=\"round\" style=\"stroke:black;stroke-width:1\" /><line x1=\"400.0\" y1=\"375.0\" x2=\"453.033\" y2=\"321.967\" stroke-linecap=\"round\" style=\"stroke:black;stroke-width:1\" /><line x1=\"453.033\" y1=\"321.967\" x2=\"509.283\" y2=\"321.967\" stroke-linecap=\"round\" style=\"stroke:black;stroke-width:1\" /><line x1=\"509.283\" y1=\"321.967\" x2=\"539.114\" y2=\"351.798\" stroke-linecap=\"round\" style=\"stroke:black;stroke-width:1\" /><line x1=\"539.114\" y1=\"351.798\" x2=\"539.114\" y2=\"383.439\" stroke-linecap=\"round\" style=\"stroke:black;stroke-width:1\" />\n",
              "        \n",
              "        \n",
              "        <g id=\"classic\" visibility=\"visible\" transform=\"rotate(0,539.114,383.439) translate(539.114, 383.439)\">\n",
              "<polygon points=\"-5,-4.5 0,-2.5 5,-4.5 0,4.5\" transform=\"skewX(0) scale(1,1)\" style=\"stroke:black;fill:black;stroke-width:1\" />\n",
              "<animateTransform id = \"one\" attributeName=\"transform\" \n",
              "                      type=\"scale\"\n",
              "                      from=\"1 1\" to=\"1 1\"\n",
              "                      begin=\"0s\" dur=\"0.01s\"\n",
              "                      repeatCount=\"1\"\n",
              "                      additive=\"sum\"\n",
              "                      fill=\"freeze\"\n",
              "                /><animateTransform attributeName=\"transform\"\n",
              "                    type=\"rotate\"\n",
              "                    from=\"0 0 0\" to =\"45 0 0\"\n",
              "                    begin=\"one.end\" dur=\"0.125s\"\n",
              "                    repeatCount=\"1\"\n",
              "                    additive=\"sum\"\n",
              "                    fill=\"freeze\"\n",
              "                /></g>\n",
              "      </svg>\n",
              "    "
            ]
          },
          "metadata": {}
        }
      ]
    },
    {
      "cell_type": "code",
      "source": [
        "clearscreen()\n",
        "\n",
        "t = Turtle()\n",
        "\n",
        "t.penup()\n",
        "t.setpos(0, -175)\n",
        "t.left(90)\n",
        "t.speed(7)\n",
        "t.pendown()\n",
        "\n",
        "def tree(trunk_length, height):\n",
        "\n",
        "  if height < 0:\n",
        "    return 0\n",
        "\n",
        "  else:\n",
        "    t.forward(trunk_length)\n",
        "    t.right(45)\n",
        "    t.forward(trunk_length)\n",
        "    t.backward(trunk_length)\n",
        "    t.left(90)\n",
        "    t.forward(trunk_length)\n",
        "    t.backward(trunk_length)\n",
        "    tree(trunk_length * 0.75, height - 1)\n",
        "\n",
        "tree(100, 4)"
      ],
      "metadata": {
        "colab": {
          "base_uri": "https://localhost:8080/",
          "height": 977
        },
        "outputId": "e1ede76e-d849-4d45-a8c2-8b019179c488",
        "id": "7bLdSSgHOg9R"
      },
      "execution_count": 26,
      "outputs": [
        {
          "output_type": "display_data",
          "data": {
            "text/plain": [
              "<IPython.core.display.HTML object>"
            ],
            "text/html": [
              "\n",
              "      <svg width=\"800\" height=\"600\">  \n",
              "        <rect width=\"100%\" height=\"100%\" style=\"fill:white;stroke:;stroke-width:1\"/>\n",
              "        \n",
              "        \n",
              "        <line x1=\"400.0\" y1=\"475.0\" x2=\"400.0\" y2=\"375.0\" stroke-linecap=\"round\" style=\"stroke:black;stroke-width:1\" /><line x1=\"400.0\" y1=\"375.0\" x2=\"407.0710678118655\" y2=\"367.9289321881345\" stroke-linecap=\"round\" style=\"stroke:black;stroke-width:1\" /><line x1=\"407.0710678118655\" y1=\"367.9289321881345\" x2=\"414.14213562373095\" y2=\"360.85786437626905\" stroke-linecap=\"round\" style=\"stroke:black;stroke-width:1\" />\n",
              "        \n",
              "        \n",
              "        <g id=\"classic\" visibility=\"visible\" transform=\"rotate(225,414.14213562373095,360.85786437626905) translate(414.14213562373095, 360.85786437626905)\">\n",
              "<polygon points=\"-5,-4.5 0,-2.5 5,-4.5 0,4.5\" transform=\"skewX(0) scale(1,1)\" style=\"stroke:black;fill:black;stroke-width:1\" />\n",
              "</g>\n",
              "      </svg>\n",
              "    "
            ]
          },
          "metadata": {}
        },
        {
          "output_type": "error",
          "ename": "KeyboardInterrupt",
          "evalue": "ignored",
          "traceback": [
            "\u001b[0;31m---------------------------------------------------------------------------\u001b[0m",
            "\u001b[0;31mKeyboardInterrupt\u001b[0m                         Traceback (most recent call last)",
            "\u001b[0;32m<ipython-input-26-b806731db927>\u001b[0m in \u001b[0;36m<cell line: 26>\u001b[0;34m()\u001b[0m\n\u001b[1;32m     24\u001b[0m     \u001b[0mtree\u001b[0m\u001b[0;34m(\u001b[0m\u001b[0mtrunk_length\u001b[0m \u001b[0;34m*\u001b[0m \u001b[0;36m0.75\u001b[0m\u001b[0;34m,\u001b[0m \u001b[0mheight\u001b[0m \u001b[0;34m-\u001b[0m \u001b[0;36m1\u001b[0m\u001b[0;34m)\u001b[0m\u001b[0;34m\u001b[0m\u001b[0;34m\u001b[0m\u001b[0m\n\u001b[1;32m     25\u001b[0m \u001b[0;34m\u001b[0m\u001b[0m\n\u001b[0;32m---> 26\u001b[0;31m \u001b[0mtree\u001b[0m\u001b[0;34m(\u001b[0m\u001b[0;36m100\u001b[0m\u001b[0;34m,\u001b[0m \u001b[0;36m4\u001b[0m\u001b[0;34m)\u001b[0m\u001b[0;34m\u001b[0m\u001b[0;34m\u001b[0m\u001b[0m\n\u001b[0m",
            "\u001b[0;32m<ipython-input-26-b806731db927>\u001b[0m in \u001b[0;36mtree\u001b[0;34m(trunk_length, height)\u001b[0m\n\u001b[1;32m     17\u001b[0m     \u001b[0mt\u001b[0m\u001b[0;34m.\u001b[0m\u001b[0mforward\u001b[0m\u001b[0;34m(\u001b[0m\u001b[0mtrunk_length\u001b[0m\u001b[0;34m)\u001b[0m\u001b[0;34m\u001b[0m\u001b[0;34m\u001b[0m\u001b[0m\n\u001b[1;32m     18\u001b[0m     \u001b[0mt\u001b[0m\u001b[0;34m.\u001b[0m\u001b[0mright\u001b[0m\u001b[0;34m(\u001b[0m\u001b[0;36m45\u001b[0m\u001b[0;34m)\u001b[0m\u001b[0;34m\u001b[0m\u001b[0;34m\u001b[0m\u001b[0m\n\u001b[0;32m---> 19\u001b[0;31m     \u001b[0mt\u001b[0m\u001b[0;34m.\u001b[0m\u001b[0mforward\u001b[0m\u001b[0;34m(\u001b[0m\u001b[0mtrunk_length\u001b[0m\u001b[0;34m)\u001b[0m\u001b[0;34m\u001b[0m\u001b[0;34m\u001b[0m\u001b[0m\n\u001b[0m\u001b[1;32m     20\u001b[0m     \u001b[0mt\u001b[0m\u001b[0;34m.\u001b[0m\u001b[0mbackward\u001b[0m\u001b[0;34m(\u001b[0m\u001b[0mtrunk_length\u001b[0m\u001b[0;34m)\u001b[0m\u001b[0;34m\u001b[0m\u001b[0;34m\u001b[0m\u001b[0m\n\u001b[1;32m     21\u001b[0m     \u001b[0mt\u001b[0m\u001b[0;34m.\u001b[0m\u001b[0mleft\u001b[0m\u001b[0;34m(\u001b[0m\u001b[0;36m90\u001b[0m\u001b[0;34m)\u001b[0m\u001b[0;34m\u001b[0m\u001b[0;34m\u001b[0m\u001b[0m\n",
            "\u001b[0;32m/usr/local/lib/python3.10/dist-packages/ColabTurtlePlus/Turtle.py\u001b[0m in \u001b[0;36mforward\u001b[0;34m(self, units)\u001b[0m\n\u001b[1;32m    860\u001b[0m         \u001b[0malpha\u001b[0m \u001b[0;34m=\u001b[0m \u001b[0mmath\u001b[0m\u001b[0;34m.\u001b[0m\u001b[0mradians\u001b[0m\u001b[0;34m(\u001b[0m\u001b[0mself\u001b[0m\u001b[0;34m.\u001b[0m\u001b[0mturtle_degree\u001b[0m\u001b[0;34m)\u001b[0m\u001b[0;34m\u001b[0m\u001b[0;34m\u001b[0m\u001b[0m\n\u001b[1;32m    861\u001b[0m         \u001b[0mnew_pos\u001b[0m \u001b[0;34m=\u001b[0m \u001b[0;34m(\u001b[0m\u001b[0mself\u001b[0m\u001b[0;34m.\u001b[0m\u001b[0mturtle_pos\u001b[0m\u001b[0;34m[\u001b[0m\u001b[0;36m0\u001b[0m\u001b[0;34m]\u001b[0m \u001b[0;34m+\u001b[0m \u001b[0munits\u001b[0m \u001b[0;34m*\u001b[0m \u001b[0mself\u001b[0m\u001b[0;34m.\u001b[0m\u001b[0mscreen\u001b[0m\u001b[0;34m.\u001b[0m\u001b[0mxscale\u001b[0m \u001b[0;34m*\u001b[0m \u001b[0mmath\u001b[0m\u001b[0;34m.\u001b[0m\u001b[0mcos\u001b[0m\u001b[0;34m(\u001b[0m\u001b[0malpha\u001b[0m\u001b[0;34m)\u001b[0m\u001b[0;34m,\u001b[0m \u001b[0mself\u001b[0m\u001b[0;34m.\u001b[0m\u001b[0mturtle_pos\u001b[0m\u001b[0;34m[\u001b[0m\u001b[0;36m1\u001b[0m\u001b[0;34m]\u001b[0m \u001b[0;34m+\u001b[0m \u001b[0munits\u001b[0m \u001b[0;34m*\u001b[0m \u001b[0mabs\u001b[0m\u001b[0;34m(\u001b[0m\u001b[0mself\u001b[0m\u001b[0;34m.\u001b[0m\u001b[0mscreen\u001b[0m\u001b[0;34m.\u001b[0m\u001b[0myscale\u001b[0m\u001b[0;34m)\u001b[0m \u001b[0;34m*\u001b[0m \u001b[0mmath\u001b[0m\u001b[0;34m.\u001b[0m\u001b[0msin\u001b[0m\u001b[0;34m(\u001b[0m\u001b[0malpha\u001b[0m\u001b[0;34m)\u001b[0m\u001b[0;34m)\u001b[0m\u001b[0;34m\u001b[0m\u001b[0;34m\u001b[0m\u001b[0m\n\u001b[0;32m--> 862\u001b[0;31m         \u001b[0mself\u001b[0m\u001b[0;34m.\u001b[0m\u001b[0mscreen\u001b[0m\u001b[0;34m.\u001b[0m\u001b[0m_moveToNewPosition\u001b[0m\u001b[0;34m(\u001b[0m\u001b[0mnew_pos\u001b[0m\u001b[0;34m,\u001b[0m\u001b[0munits\u001b[0m\u001b[0;34m,\u001b[0m \u001b[0mturtle\u001b[0m\u001b[0;34m=\u001b[0m\u001b[0mself\u001b[0m\u001b[0;34m)\u001b[0m\u001b[0;34m\u001b[0m\u001b[0;34m\u001b[0m\u001b[0m\n\u001b[0m\u001b[1;32m    863\u001b[0m     \u001b[0mfd\u001b[0m \u001b[0;34m=\u001b[0m \u001b[0mforward\u001b[0m \u001b[0;31m# alias\u001b[0m\u001b[0;34m\u001b[0m\u001b[0;34m\u001b[0m\u001b[0m\n\u001b[1;32m    864\u001b[0m \u001b[0;34m\u001b[0m\u001b[0m\n",
            "\u001b[0;32m/usr/local/lib/python3.10/dist-packages/ColabTurtlePlus/Turtle.py\u001b[0m in \u001b[0;36m_moveToNewPosition\u001b[0;34m(self, new_pos, units, turtle)\u001b[0m\n\u001b[1;32m    362\u001b[0m                             pwidth=turtle.pen_width) \n\u001b[1;32m    363\u001b[0m                     \u001b[0minitial_pos\u001b[0m \u001b[0;34m=\u001b[0m \u001b[0mturtle\u001b[0m\u001b[0;34m.\u001b[0m\u001b[0mturtle_pos\u001b[0m\u001b[0;34m\u001b[0m\u001b[0;34m\u001b[0m\u001b[0m\n\u001b[0;32m--> 364\u001b[0;31m                     \u001b[0mself\u001b[0m\u001b[0;34m.\u001b[0m\u001b[0m_updateDrawing\u001b[0m\u001b[0;34m(\u001b[0m\u001b[0mturtle\u001b[0m\u001b[0;34m=\u001b[0m\u001b[0mturtle\u001b[0m\u001b[0;34m)\u001b[0m\u001b[0;34m\u001b[0m\u001b[0;34m\u001b[0m\u001b[0m\n\u001b[0m\u001b[1;32m    365\u001b[0m                     \u001b[0munits\u001b[0m \u001b[0;34m-=\u001b[0m \u001b[0mdunits\u001b[0m\u001b[0;34m\u001b[0m\u001b[0;34m\u001b[0m\u001b[0m\n\u001b[1;32m    366\u001b[0m             \u001b[0;32melse\u001b[0m\u001b[0;34m:\u001b[0m\u001b[0;34m\u001b[0m\u001b[0;34m\u001b[0m\u001b[0m\n",
            "\u001b[0;32m/usr/local/lib/python3.10/dist-packages/ColabTurtlePlus/Turtle.py\u001b[0m in \u001b[0;36m_updateDrawing\u001b[0;34m(self, turtle, delay)\u001b[0m\n\u001b[1;32m    325\u001b[0m                 \u001b[0mself\u001b[0m\u001b[0;34m.\u001b[0m\u001b[0mdrawing_window\u001b[0m\u001b[0;34m.\u001b[0m\u001b[0mupdate\u001b[0m\u001b[0;34m(\u001b[0m\u001b[0mHTML\u001b[0m\u001b[0;34m(\u001b[0m\u001b[0mself\u001b[0m\u001b[0;34m.\u001b[0m\u001b[0m_generateSvgDrawing\u001b[0m\u001b[0;34m(\u001b[0m\u001b[0;34m)\u001b[0m\u001b[0;34m)\u001b[0m\u001b[0;34m)\u001b[0m\u001b[0;34m\u001b[0m\u001b[0;34m\u001b[0m\u001b[0m\n\u001b[1;32m    326\u001b[0m                 \u001b[0;32mif\u001b[0m \u001b[0mdelay\u001b[0m\u001b[0;34m:\u001b[0m\u001b[0;34m\u001b[0m\u001b[0;34m\u001b[0m\u001b[0m\n\u001b[0;32m--> 327\u001b[0;31m                     \u001b[0mtime\u001b[0m\u001b[0;34m.\u001b[0m\u001b[0msleep\u001b[0m\u001b[0;34m(\u001b[0m\u001b[0mturtle\u001b[0m\u001b[0;34m.\u001b[0m\u001b[0mtimeout\u001b[0m\u001b[0;34m)\u001b[0m\u001b[0;34m\u001b[0m\u001b[0;34m\u001b[0m\u001b[0m\n\u001b[0m\u001b[1;32m    328\u001b[0m         \u001b[0;32melse\u001b[0m\u001b[0;34m:\u001b[0m\u001b[0;34m\u001b[0m\u001b[0;34m\u001b[0m\u001b[0m\n\u001b[1;32m    329\u001b[0m             \u001b[0mself\u001b[0m\u001b[0;34m.\u001b[0m\u001b[0mdrawing_window\u001b[0m\u001b[0;34m.\u001b[0m\u001b[0mupdate\u001b[0m\u001b[0;34m(\u001b[0m\u001b[0mHTML\u001b[0m\u001b[0;34m(\u001b[0m\u001b[0mself\u001b[0m\u001b[0;34m.\u001b[0m\u001b[0m_generateSvgDrawing\u001b[0m\u001b[0;34m(\u001b[0m\u001b[0;34m)\u001b[0m\u001b[0;34m)\u001b[0m\u001b[0;34m)\u001b[0m\u001b[0;34m\u001b[0m\u001b[0;34m\u001b[0m\u001b[0m\n",
            "\u001b[0;31mKeyboardInterrupt\u001b[0m: "
          ]
        }
      ]
    },
    {
      "cell_type": "code",
      "source": [
        "clearscreen()\n",
        "\n",
        "t = Turtle()\n",
        "\n",
        "t.penup()\n",
        "t.setpos(0, -175)\n",
        "t.left(90)\n",
        "t.speed(7)\n",
        "t.pendown()\n",
        "\n",
        "def tree(trunk_length, height):\n",
        "\n",
        "  if height == 0:\n",
        "    return 0\n",
        "\n",
        "  else:\n",
        "    t.forward(trunk_length)\n",
        "    t.right(45)\n",
        "    t.forward(trunk_length * 0.75)\n",
        "    t.backward(trunk_length * 0.75)\n",
        "    t.left(90)\n",
        "    t.forward(trunk_length * 0.75)\n",
        "    t.backward(trunk_length * 0.75)\n",
        "    tree(trunk_length * 0.75, height - 1)\n",
        "\n",
        "\n",
        "tree(100, 4)"
      ],
      "metadata": {
        "colab": {
          "base_uri": "https://localhost:8080/",
          "height": 621
        },
        "id": "HovD7c9eSfrQ",
        "outputId": "6ac2aea0-35da-4135-94c0-cd983dffe666"
      },
      "execution_count": 33,
      "outputs": [
        {
          "output_type": "display_data",
          "data": {
            "text/plain": [
              "<IPython.core.display.HTML object>"
            ],
            "text/html": [
              "\n",
              "      <svg width=\"800\" height=\"600\">  \n",
              "        <rect width=\"100%\" height=\"100%\" style=\"fill:white;stroke:;stroke-width:1\"/>\n",
              "        \n",
              "        \n",
              "        <line x1=\"400.0\" y1=\"475.0\" x2=\"400.0\" y2=\"375.0\" stroke-linecap=\"round\" style=\"stroke:black;stroke-width:1\" /><line x1=\"400.0\" y1=\"375.0\" x2=\"453.033\" y2=\"321.967\" stroke-linecap=\"round\" style=\"stroke:black;stroke-width:1\" /><line x1=\"453.033\" y1=\"321.967\" x2=\"400.0\" y2=\"375.0\" stroke-linecap=\"round\" style=\"stroke:black;stroke-width:1\" /><line x1=\"400.0\" y1=\"375.0\" x2=\"346.967\" y2=\"321.967\" stroke-linecap=\"round\" style=\"stroke:black;stroke-width:1\" /><line x1=\"346.967\" y1=\"321.967\" x2=\"400.0\" y2=\"375.0\" stroke-linecap=\"round\" style=\"stroke:black;stroke-width:1\" /><line x1=\"400.0\" y1=\"375.0\" x2=\"346.967\" y2=\"321.967\" stroke-linecap=\"round\" style=\"stroke:black;stroke-width:1\" /><line x1=\"346.967\" y1=\"321.967\" x2=\"346.967\" y2=\"265.717\" stroke-linecap=\"round\" style=\"stroke:black;stroke-width:1\" /><line x1=\"346.967\" y1=\"265.717\" x2=\"346.967\" y2=\"321.967\" stroke-linecap=\"round\" style=\"stroke:black;stroke-width:1\" /><line x1=\"346.967\" y1=\"321.967\" x2=\"290.717\" y2=\"321.967\" stroke-linecap=\"round\" style=\"stroke:black;stroke-width:1\" /><line x1=\"290.717\" y1=\"321.967\" x2=\"346.967\" y2=\"321.967\" stroke-linecap=\"round\" style=\"stroke:black;stroke-width:1\" /><line x1=\"346.967\" y1=\"321.967\" x2=\"290.717\" y2=\"321.967\" stroke-linecap=\"round\" style=\"stroke:black;stroke-width:1\" /><line x1=\"290.717\" y1=\"321.967\" x2=\"260.886\" y2=\"292.136\" stroke-linecap=\"round\" style=\"stroke:black;stroke-width:1\" /><line x1=\"260.886\" y1=\"292.136\" x2=\"290.717\" y2=\"321.967\" stroke-linecap=\"round\" style=\"stroke:black;stroke-width:1\" /><line x1=\"290.717\" y1=\"321.967\" x2=\"260.886\" y2=\"351.798\" stroke-linecap=\"round\" style=\"stroke:black;stroke-width:1\" /><line x1=\"260.886\" y1=\"351.798\" x2=\"290.717\" y2=\"321.967\" stroke-linecap=\"round\" style=\"stroke:black;stroke-width:1\" /><line x1=\"290.717\" y1=\"321.967\" x2=\"260.886\" y2=\"351.798\" stroke-linecap=\"round\" style=\"stroke:black;stroke-width:1\" /><line x1=\"260.886\" y1=\"351.798\" x2=\"229.245\" y2=\"351.798\" stroke-linecap=\"round\" style=\"stroke:black;stroke-width:1\" /><line x1=\"229.245\" y1=\"351.798\" x2=\"260.886\" y2=\"351.798\" stroke-linecap=\"round\" style=\"stroke:black;stroke-width:1\" /><line x1=\"260.886\" y1=\"351.798\" x2=\"260.886\" y2=\"383.439\" stroke-linecap=\"round\" style=\"stroke:black;stroke-width:1\" /><line x1=\"260.886\" y1=\"383.439\" x2=\"260.886\" y2=\"373.439\" stroke-linecap=\"round\" style=\"stroke:black;stroke-width:1\" /><line x1=\"260.886\" y1=\"373.439\" x2=\"260.886\" y2=\"363.439\" stroke-linecap=\"round\" style=\"stroke:black;stroke-width:1\" /><line x1=\"260.886\" y1=\"363.439\" x2=\"260.886\" y2=\"353.439\" stroke-linecap=\"round\" style=\"stroke:black;stroke-width:1\" /><line x1=\"260.886\" y1=\"353.439\" x2=\"260.886\" y2=\"351.798375\" stroke-linecap=\"round\" style=\"stroke:black;stroke-width:1\" />\n",
              "        \n",
              "        \n",
              "        <g id=\"classic\" visibility=\"visible\" transform=\"rotate(0,260.886,351.798375) translate(260.886, 351.798375)\">\n",
              "<polygon points=\"-5,-4.5 0,-2.5 5,-4.5 0,4.5\" transform=\"skewX(0) scale(1,1)\" style=\"stroke:black;fill:black;stroke-width:1\" />\n",
              "</g>\n",
              "      </svg>\n",
              "    "
            ]
          },
          "metadata": {}
        }
      ]
    },
    {
      "cell_type": "code",
      "source": [
        "clearscreen()\n",
        "\n",
        "t = Turtle()\n",
        "\n",
        "t.penup()\n",
        "t.setpos(0, -175)\n",
        "t.left(90)\n",
        "t.speed(10)\n",
        "t.pendown()\n",
        "\n",
        "def tree(trunk_length, height):\n",
        "\n",
        "  if height < 0:\n",
        "    return\n",
        "\n",
        "  else:\n",
        "    t.forward(trunk_length)\n",
        "    t.right(45)\n",
        "    tree(trunk_length * 0.65, height - 1)\n",
        "    t.left(90)\n",
        "    tree(trunk_length * 0.65, height - 1)\n",
        "    t.right(45)\n",
        "    t.backward(trunk_length)\n",
        "\n",
        "\n",
        "tree(100, 4)"
      ],
      "metadata": {
        "colab": {
          "base_uri": "https://localhost:8080/",
          "height": 621
        },
        "id": "1BEt-T7na-7c",
        "outputId": "76695262-2491-487d-88a8-8e8b91bc9f6c"
      },
      "execution_count": 37,
      "outputs": [
        {
          "output_type": "display_data",
          "data": {
            "text/plain": [
              "<IPython.core.display.HTML object>"
            ],
            "text/html": [
              "\n",
              "      <svg width=\"800\" height=\"600\">  \n",
              "        <rect width=\"100%\" height=\"100%\" style=\"fill:white;stroke:;stroke-width:1\"/>\n",
              "        \n",
              "        \n",
              "        <line x1=\"400.0\" y1=\"475.0\" x2=\"400.0\" y2=\"375.0\" stroke-linecap=\"round\" style=\"stroke:black;stroke-width:1\" /><line x1=\"400.0\" y1=\"375.0\" x2=\"445.962\" y2=\"329.038\" stroke-linecap=\"round\" style=\"stroke:black;stroke-width:1\" /><line x1=\"445.962\" y1=\"329.038\" x2=\"488.212\" y2=\"329.038\" stroke-linecap=\"round\" style=\"stroke:black;stroke-width:1\" /><line x1=\"488.212\" y1=\"329.038\" x2=\"507.631\" y2=\"348.457\" stroke-linecap=\"round\" style=\"stroke:black;stroke-width:1\" /><line x1=\"507.631\" y1=\"348.457\" x2=\"507.631\" y2=\"366.308\" stroke-linecap=\"round\" style=\"stroke:black;stroke-width:1\" /><line x1=\"507.631\" y1=\"366.308\" x2=\"507.631\" y2=\"348.457\" stroke-linecap=\"round\" style=\"stroke:black;stroke-width:1\" /><line x1=\"507.631\" y1=\"348.457\" x2=\"525.482\" y2=\"348.457\" stroke-linecap=\"round\" style=\"stroke:black;stroke-width:1\" /><line x1=\"525.482\" y1=\"348.457\" x2=\"507.631\" y2=\"348.457\" stroke-linecap=\"round\" style=\"stroke:black;stroke-width:1\" /><line x1=\"507.631\" y1=\"348.457\" x2=\"488.212\" y2=\"329.038\" stroke-linecap=\"round\" style=\"stroke:black;stroke-width:1\" /><line x1=\"488.212\" y1=\"329.038\" x2=\"507.631\" y2=\"309.619\" stroke-linecap=\"round\" style=\"stroke:black;stroke-width:1\" /><line x1=\"507.631\" y1=\"309.619\" x2=\"525.482\" y2=\"309.619\" stroke-linecap=\"round\" style=\"stroke:black;stroke-width:1\" /><line x1=\"525.482\" y1=\"309.619\" x2=\"507.631\" y2=\"309.619\" stroke-linecap=\"round\" style=\"stroke:black;stroke-width:1\" /><line x1=\"507.631\" y1=\"309.619\" x2=\"507.631\" y2=\"291.768\" stroke-linecap=\"round\" style=\"stroke:black;stroke-width:1\" /><line x1=\"507.631\" y1=\"291.768\" x2=\"507.631\" y2=\"309.619\" stroke-linecap=\"round\" style=\"stroke:black;stroke-width:1\" /><line x1=\"507.631\" y1=\"309.619\" x2=\"488.212\" y2=\"329.038\" stroke-linecap=\"round\" style=\"stroke:black;stroke-width:1\" /><line x1=\"488.212\" y1=\"329.038\" x2=\"445.962\" y2=\"329.038\" stroke-linecap=\"round\" style=\"stroke:black;stroke-width:1\" /><line x1=\"445.962\" y1=\"329.038\" x2=\"445.962\" y2=\"286.788\" stroke-linecap=\"round\" style=\"stroke:black;stroke-width:1\" /><line x1=\"445.962\" y1=\"286.788\" x2=\"465.381\" y2=\"267.369\" stroke-linecap=\"round\" style=\"stroke:black;stroke-width:1\" /><line x1=\"465.381\" y1=\"267.369\" x2=\"483.232\" y2=\"267.369\" stroke-linecap=\"round\" style=\"stroke:black;stroke-width:1\" /><line x1=\"483.232\" y1=\"267.369\" x2=\"465.381\" y2=\"267.369\" stroke-linecap=\"round\" style=\"stroke:black;stroke-width:1\" /><line x1=\"465.381\" y1=\"267.369\" x2=\"465.381\" y2=\"249.518\" stroke-linecap=\"round\" style=\"stroke:black;stroke-width:1\" /><line x1=\"465.381\" y1=\"249.518\" x2=\"465.381\" y2=\"267.369\" stroke-linecap=\"round\" style=\"stroke:black;stroke-width:1\" /><line x1=\"465.381\" y1=\"267.369\" x2=\"445.962\" y2=\"286.788\" stroke-linecap=\"round\" style=\"stroke:black;stroke-width:1\" /><line x1=\"445.962\" y1=\"286.788\" x2=\"426.543\" y2=\"267.369\" stroke-linecap=\"round\" style=\"stroke:black;stroke-width:1\" /><line x1=\"426.543\" y1=\"267.369\" x2=\"426.543\" y2=\"249.518\" stroke-linecap=\"round\" style=\"stroke:black;stroke-width:1\" /><line x1=\"426.543\" y1=\"249.518\" x2=\"426.543\" y2=\"267.369\" stroke-linecap=\"round\" style=\"stroke:black;stroke-width:1\" /><line x1=\"426.543\" y1=\"267.369\" x2=\"408.692\" y2=\"267.369\" stroke-linecap=\"round\" style=\"stroke:black;stroke-width:1\" /><line x1=\"408.692\" y1=\"267.369\" x2=\"426.543\" y2=\"267.369\" stroke-linecap=\"round\" style=\"stroke:black;stroke-width:1\" /><line x1=\"426.543\" y1=\"267.369\" x2=\"445.962\" y2=\"286.788\" stroke-linecap=\"round\" style=\"stroke:black;stroke-width:1\" /><line x1=\"445.962\" y1=\"286.788\" x2=\"445.962\" y2=\"329.038\" stroke-linecap=\"round\" style=\"stroke:black;stroke-width:1\" /><line x1=\"445.962\" y1=\"329.038\" x2=\"400.0\" y2=\"375.0\" stroke-linecap=\"round\" style=\"stroke:black;stroke-width:1\" /><line x1=\"400.0\" y1=\"375.0\" x2=\"354.038\" y2=\"329.038\" stroke-linecap=\"round\" style=\"stroke:black;stroke-width:1\" /><line x1=\"354.038\" y1=\"329.038\" x2=\"354.038\" y2=\"286.788\" stroke-linecap=\"round\" style=\"stroke:black;stroke-width:1\" /><line x1=\"354.038\" y1=\"286.788\" x2=\"373.457\" y2=\"267.369\" stroke-linecap=\"round\" style=\"stroke:black;stroke-width:1\" /><line x1=\"373.457\" y1=\"267.369\" x2=\"391.308\" y2=\"267.369\" stroke-linecap=\"round\" style=\"stroke:black;stroke-width:1\" /><line x1=\"391.308\" y1=\"267.369\" x2=\"373.457\" y2=\"267.369\" stroke-linecap=\"round\" style=\"stroke:black;stroke-width:1\" /><line x1=\"373.457\" y1=\"267.369\" x2=\"373.457\" y2=\"249.518\" stroke-linecap=\"round\" style=\"stroke:black;stroke-width:1\" /><line x1=\"373.457\" y1=\"249.518\" x2=\"373.457\" y2=\"267.369\" stroke-linecap=\"round\" style=\"stroke:black;stroke-width:1\" /><line x1=\"373.457\" y1=\"267.369\" x2=\"354.038\" y2=\"286.788\" stroke-linecap=\"round\" style=\"stroke:black;stroke-width:1\" /><line x1=\"354.038\" y1=\"286.788\" x2=\"334.619\" y2=\"267.369\" stroke-linecap=\"round\" style=\"stroke:black;stroke-width:1\" /><line x1=\"334.619\" y1=\"267.369\" x2=\"334.619\" y2=\"249.518\" stroke-linecap=\"round\" style=\"stroke:black;stroke-width:1\" /><line x1=\"334.619\" y1=\"249.518\" x2=\"334.619\" y2=\"267.369\" stroke-linecap=\"round\" style=\"stroke:black;stroke-width:1\" /><line x1=\"334.619\" y1=\"267.369\" x2=\"316.768\" y2=\"267.369\" stroke-linecap=\"round\" style=\"stroke:black;stroke-width:1\" /><line x1=\"316.768\" y1=\"267.369\" x2=\"334.619\" y2=\"267.369\" stroke-linecap=\"round\" style=\"stroke:black;stroke-width:1\" /><line x1=\"334.619\" y1=\"267.369\" x2=\"354.038\" y2=\"286.788\" stroke-linecap=\"round\" style=\"stroke:black;stroke-width:1\" /><line x1=\"354.038\" y1=\"286.788\" x2=\"354.038\" y2=\"329.038\" stroke-linecap=\"round\" style=\"stroke:black;stroke-width:1\" /><line x1=\"354.038\" y1=\"329.038\" x2=\"311.788\" y2=\"329.038\" stroke-linecap=\"round\" style=\"stroke:black;stroke-width:1\" /><line x1=\"311.788\" y1=\"329.038\" x2=\"292.369\" y2=\"309.619\" stroke-linecap=\"round\" style=\"stroke:black;stroke-width:1\" /><line x1=\"292.369\" y1=\"309.619\" x2=\"292.369\" y2=\"291.768\" stroke-linecap=\"round\" style=\"stroke:black;stroke-width:1\" /><line x1=\"292.369\" y1=\"291.768\" x2=\"292.369\" y2=\"309.619\" stroke-linecap=\"round\" style=\"stroke:black;stroke-width:1\" /><line x1=\"292.369\" y1=\"309.619\" x2=\"274.518\" y2=\"309.619\" stroke-linecap=\"round\" style=\"stroke:black;stroke-width:1\" /><line x1=\"274.518\" y1=\"309.619\" x2=\"292.369\" y2=\"309.619\" stroke-linecap=\"round\" style=\"stroke:black;stroke-width:1\" /><line x1=\"292.369\" y1=\"309.619\" x2=\"311.788\" y2=\"329.038\" stroke-linecap=\"round\" style=\"stroke:black;stroke-width:1\" /><line x1=\"311.788\" y1=\"329.038\" x2=\"292.369\" y2=\"348.457\" stroke-linecap=\"round\" style=\"stroke:black;stroke-width:1\" /><line x1=\"292.369\" y1=\"348.457\" x2=\"274.518\" y2=\"348.457\" stroke-linecap=\"round\" style=\"stroke:black;stroke-width:1\" /><line x1=\"274.518\" y1=\"348.457\" x2=\"292.369\" y2=\"348.457\" stroke-linecap=\"round\" style=\"stroke:black;stroke-width:1\" /><line x1=\"292.369\" y1=\"348.457\" x2=\"292.369\" y2=\"366.308\" stroke-linecap=\"round\" style=\"stroke:black;stroke-width:1\" /><line x1=\"292.369\" y1=\"366.308\" x2=\"292.369\" y2=\"348.457\" stroke-linecap=\"round\" style=\"stroke:black;stroke-width:1\" /><line x1=\"292.369\" y1=\"348.457\" x2=\"311.788\" y2=\"329.038\" stroke-linecap=\"round\" style=\"stroke:black;stroke-width:1\" /><line x1=\"311.788\" y1=\"329.038\" x2=\"354.038\" y2=\"329.038\" stroke-linecap=\"round\" style=\"stroke:black;stroke-width:1\" /><line x1=\"354.038\" y1=\"329.038\" x2=\"400.0\" y2=\"375.0\" stroke-linecap=\"round\" style=\"stroke:black;stroke-width:1\" /><line x1=\"400.0\" y1=\"375.0\" x2=\"400.0\" y2=\"385.0\" stroke-linecap=\"round\" style=\"stroke:black;stroke-width:1\" /><line x1=\"400.0\" y1=\"385.0\" x2=\"400.0\" y2=\"395.0\" stroke-linecap=\"round\" style=\"stroke:black;stroke-width:1\" /><line x1=\"400.0\" y1=\"395.0\" x2=\"400.0\" y2=\"405.0\" stroke-linecap=\"round\" style=\"stroke:black;stroke-width:1\" /><line x1=\"400.0\" y1=\"405.0\" x2=\"400.0\" y2=\"415.0\" stroke-linecap=\"round\" style=\"stroke:black;stroke-width:1\" /><line x1=\"400.0\" y1=\"415.0\" x2=\"400.0\" y2=\"425.0\" stroke-linecap=\"round\" style=\"stroke:black;stroke-width:1\" /><line x1=\"400.0\" y1=\"425.0\" x2=\"400.0\" y2=\"435.0\" stroke-linecap=\"round\" style=\"stroke:black;stroke-width:1\" /><line x1=\"400.0\" y1=\"435.0\" x2=\"400.0\" y2=\"445.0\" stroke-linecap=\"round\" style=\"stroke:black;stroke-width:1\" /><line x1=\"400.0\" y1=\"445.0\" x2=\"400.0\" y2=\"455.0\" stroke-linecap=\"round\" style=\"stroke:black;stroke-width:1\" /><line x1=\"400.0\" y1=\"455.0\" x2=\"400.0\" y2=\"465.0\" stroke-linecap=\"round\" style=\"stroke:black;stroke-width:1\" /><line x1=\"400.0\" y1=\"465.0\" x2=\"400.0\" y2=\"475.0\" stroke-linecap=\"round\" style=\"stroke:black;stroke-width:1\" />\n",
              "        \n",
              "        \n",
              "        <g id=\"classic\" visibility=\"visible\" transform=\"rotate(180,400.0,475.0) translate(400.0, 475.0)\">\n",
              "<polygon points=\"-5,-4.5 0,-2.5 5,-4.5 0,4.5\" transform=\"skewX(0) scale(1,1)\" style=\"stroke:black;fill:black;stroke-width:1\" />\n",
              "</g>\n",
              "      </svg>\n",
              "    "
            ]
          },
          "metadata": {}
        }
      ]
    }
  ]
}