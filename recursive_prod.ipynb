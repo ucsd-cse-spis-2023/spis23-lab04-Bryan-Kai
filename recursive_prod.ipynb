{
  "nbformat": 4,
  "nbformat_minor": 0,
  "metadata": {
    "colab": {
      "provenance": [],
      "authorship_tag": "ABX9TyMrQmk0rVyO6HBIrgUdl7yL",
      "include_colab_link": true
    },
    "kernelspec": {
      "name": "python3",
      "display_name": "Python 3"
    },
    "language_info": {
      "name": "python"
    }
  },
  "cells": [
    {
      "cell_type": "markdown",
      "metadata": {
        "id": "view-in-github",
        "colab_type": "text"
      },
      "source": [
        "<a href=\"https://colab.research.google.com/github/ucsd-cse-spis-2023/spis23-lab04-Bryan-Kai/blob/main/recursive_prod.ipynb\" target=\"_parent\"><img src=\"https://colab.research.google.com/assets/colab-badge.svg\" alt=\"Open In Colab\"/></a>"
      ]
    },
    {
      "cell_type": "code",
      "execution_count": 11,
      "metadata": {
        "id": "vDt5bikCZ2ZC",
        "colab": {
          "base_uri": "https://localhost:8080/"
        },
        "outputId": "a7bf5aaf-fe57-4b9e-995e-1f40599944f5"
      },
      "outputs": [
        {
          "output_type": "execute_result",
          "data": {
            "text/plain": [
              "-5"
            ]
          },
          "metadata": {},
          "execution_count": 11
        }
      ],
      "source": [
        "# multiply w/o \"*\" operator complete\n",
        "def rec_product(a, b):\n",
        "  if a == 0 or b == 0:\n",
        "    return 0\n",
        "  else:\n",
        "    return a + (rec_product(a, b - 1))\n",
        "\n",
        "rec_product(-1, 5)\n"
      ]
    }
  ]
}